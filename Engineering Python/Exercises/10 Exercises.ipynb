{
 "cells": [
  {
   "cell_type": "markdown",
   "metadata": {},
   "source": [
    "## Exercise 10.1 (search)\n",
    "\n",
    "We want to find the largest and smallest values in a long list of numbers. Implement\n",
    "two algorithms, based on:\n",
    "\n",
    "1. Iterating over the list entries; and \n",
    "1. First applying a built-in sort operation to the list.\n",
    "\n",
    "Encapsulate each algorithm in a function. To create lists of numbers for testing use, for example:\n",
    "```python\n",
    "x = np.random.rand(1000)\n",
    "```"
   ]
  },
  {
   "cell_type": "markdown",
   "metadata": {},
   "source": [
    "### Solution\n",
    "\n",
    "We first create the list of random numbers"
   ]
  },
  {
   "cell_type": "code",
   "execution_count": 1,
   "metadata": {},
   "outputs": [],
   "source": [
    "import numpy as np\n",
    "x = np.random.rand(1000) #np array"
   ]
  },
  {
   "cell_type": "markdown",
   "metadata": {},
   "source": [
    "#### Approach 1"
   ]
  },
  {
   "cell_type": "code",
   "execution_count": 2,
   "metadata": {
    "deletable": false,
    "nbgrader": {
     "cell_type": "code",
     "checksum": "43178ff8d1756660a5dcafc73a085a11",
     "grade": false,
     "grade_id": "cell-78de0384c89f8cd3",
     "locked": false,
     "schema_version": 3,
     "solution": true
    }
   },
   "outputs": [
    {
     "name": "stdout",
     "output_type": "stream",
     "text": [
      "(0.0004156248652812389, 0.9992915351233779)\n"
     ]
    }
   ],
   "source": [
    "\n",
    "def min_max1(x):\n",
    "    \n",
    "    if  not x.any(): #if x is completely empty, then it returns false, so not false goes to True..\n",
    "        #.any() returns true if any of the elements are true.\n",
    "        return(\"list is empty\")\n",
    "    x = x.copy()\n",
    "    x_min = x[0]\n",
    "    x_max = x[0]\n",
    "    for i in range(1,len(x)): #already have the 0th index in place.\n",
    "        if x[i]< x_min:\n",
    "            x_min = x[i]\n",
    "        elif x[i]> x_max: #make it exclusive, avoids having to check both if statements.\n",
    "            x_max = x[i]\n",
    "          \n",
    "    return  x_min, x_max\n",
    "    \n",
    "print(min_max1(x))\n"
   ]
  },
  {
   "cell_type": "markdown",
   "metadata": {},
   "source": [
    "#### Approach 2"
   ]
  },
  {
   "cell_type": "code",
   "execution_count": 3,
   "metadata": {
    "deletable": false,
    "nbgrader": {
     "cell_type": "code",
     "checksum": "7e7695c3d6d4b78df21b7726c26d0d14",
     "grade": false,
     "grade_id": "cell-dfd666bf7428bcdc",
     "locked": false,
     "schema_version": 3,
     "solution": true
    }
   },
   "outputs": [
    {
     "name": "stdout",
     "output_type": "stream",
     "text": [
      "(0.0004156248652812389, 0.9992915351233779)\n"
     ]
    }
   ],
   "source": [
    "def min_max2(x):\n",
    "    #compare pairwise then recurse\n",
    "    x= sorted(x) #timsort\n",
    "    return x[0],x[-1]\n",
    "\n",
    "print(min_max2(x))"
   ]
  },
  {
   "cell_type": "code",
   "execution_count": 4,
   "metadata": {
    "deletable": false,
    "editable": false,
    "nbgrader": {
     "cell_type": "code",
     "checksum": "1fb0c38ddcfcd2759b42e913ab624f34",
     "grade": true,
     "grade_id": "cell-1fa6054c191acd87",
     "locked": true,
     "points": 0,
     "schema_version": 3,
     "solution": false
    }
   },
   "outputs": [],
   "source": [
    "assert min_max1(x) == min_max2(x)"
   ]
  },
  {
   "cell_type": "markdown",
   "metadata": {},
   "source": [
    "In practice, we would use the the NumPy function:"
   ]
  },
  {
   "cell_type": "code",
   "execution_count": 5,
   "metadata": {},
   "outputs": [
    {
     "name": "stdout",
     "output_type": "stream",
     "text": [
      "0.0004156248652812389 0.9992915351233779\n",
      "Wall time: 11 ms\n",
      "Wall time: 7.98 ms\n"
     ]
    },
    {
     "data": {
      "text/plain": [
       "(5.6654511679132824e-05, 0.999459835263502)"
      ]
     },
     "execution_count": 5,
     "metadata": {},
     "output_type": "execute_result"
    }
   ],
   "source": [
    "print(np.min(x), np.max(x))\n",
    "\n",
    "joe= np.random.rand(10000)\n",
    "%time min_max1(joe) #9.97 milliseconds\n",
    "%time min_max2(joe) #998 microseconds"
   ]
  },
  {
   "cell_type": "markdown",
   "metadata": {},
   "source": [
    "## Exercise 10.2 (Newton's method for root finding)\n",
    "\n",
    "### Background\n",
    "\n",
    "Newton's method can be used to find a root $x$ of a function $f(x)$ such that\n",
    "$$\n",
    "f(x) = 0\n",
    "$$\n",
    "A Taylor series expansion of $f$ about $x_{i}$ reads:\n",
    "$$\n",
    "f(x_{i+1}) = f(x_{i}) + \\left. f^{\\prime} \\right|_{x_{i}} .(x_{i+1} - x_{i}) +  O((x_{i+1} - x_{i})^{2})\n",
    "$$\n",
    "\n",
    "If we neglect the higher-order terms and set $f(x_{i+1})$ to zero, we have Newton's method:\n",
    "\\begin{align}\n",
    "x_{i + 1} &= - \\frac{f(x_{i})}{f^{\\prime}(x_{i})} + x_{i}\n",
    "\\\\\n",
    "x_{i} &\\leftarrow x_{i+1}\n",
    "\\end{align}\n",
    "In Newton's method, the above is applied iteratively until $\\left|f(x_{i + 1})\\right|$ is below a tolerance value.\n",
    "$$x_{i+1}$$ is just $$x_{i} + h$$"
   ]
  },
  {
   "cell_type": "markdown",
   "metadata": {},
   "source": [
    "### Task\n",
    "\n",
    "Develop an implementation of Newton's method, with the following three functions in your implementation:\n",
    "```python\n",
    "def newton(f, df, x0, tol, max_it):\n",
    "    # Implement here\n",
    "    \n",
    "    return x1  # return root\n",
    "```\n",
    "where `x0` is the initial guess, `tol` is the stopping tolerance, `max_it` is the maximum number \n",
    "of iterations, and \n",
    "```python\n",
    "def f(x):\n",
    "    # Evaluate function at x and return value\n",
    "\n",
    "\n",
    "def df(x):\n",
    "    # Evaluate df/dx at x and return value\n",
    "\n",
    "```\n",
    "\n",
    "Your implementation should raise an exception if the maximum number of iterations (`max_it`)\n",
    "is exceeded.\n",
    "\n",
    "Use your program to find the roots of:\n",
    "$$\n",
    "f(x) = \\tan(x) - 2x\n",
    "$$\n",
    "between $-\\pi/2$ and $\\pi/2$. Plot $f(x)$ and $f^{\\prime}(x)$ on the same graph, \n",
    "and show the roots computed by Newton's method.\n",
    "\n",
    "Newton's method can be sensitive to the starting value. Make sure you find the root around $x = 1.2$. What happens if you start at $x = 0.9$? It may help to add a print statement in the iteration loop, showing $x$ and $f$ at each iteration.\n",
    "\n",
    "\n",
    "### Extension (optional)\n",
    "\n",
    "For a complicated function we might not know how to compute the derivative, or it may be very complicated\n",
    "to evaluate. Write a function that computes the *numerical derivative* of $f(x)$ by evaluating \n",
    "$(f(x + dx) - f(x - dx)) / (2dx)$, where $dx$ is small. How should you choose $dx$?"
   ]
  },
  {
   "cell_type": "markdown",
   "metadata": {},
   "source": [
    "### Solution\n",
    "\n",
    "We first implement a Newton solver function:"
   ]
  },
  {
   "cell_type": "code",
   "execution_count": 6,
   "metadata": {
    "deletable": false,
    "nbgrader": {
     "cell_type": "code",
     "checksum": "290b4b5892bdeabd6ab6a0a33ecf8fc8",
     "grade": false,
     "grade_id": "cell-d67ac5bf99448637",
     "locked": false,
     "schema_version": 3,
     "solution": true
    }
   },
   "outputs": [],
   "source": [
    "import numpy as np\n",
    "\n",
    "def newton(f, df, x, tol=1e-8, max_it=20):\n",
    "    \"\"\"Find root of equation defined by function f(x) where df(x) is\n",
    "    first derivative and x is the initial guess.Optional arguments tol \n",
    "    (tolerance) and max_it (maximum number of iterations)\"\"\"\n",
    "\n",
    "    \n",
    "    for i in range(max_it):\n",
    "        \n",
    "        x = -f(x)/df(x) +x\n",
    "        #print(x)\n",
    "        if abs(f(x))<tol:\n",
    "\n",
    "            return x\n",
    "    \n",
    "    #raise ValueError(\"Max number of iterations exceeded. X may have diverged.\")\n",
    "    return \"X diverged to\", x"
   ]
  },
  {
   "cell_type": "markdown",
   "metadata": {},
   "source": [
    "We now provide implementations of `f` and `df`, and find the roots:"
   ]
  },
  {
   "cell_type": "code",
   "execution_count": 22,
   "metadata": {
    "deletable": false,
    "nbgrader": {
     "cell_type": "code",
     "checksum": "87ec2db5298cf3652d7a10b265e662f7",
     "grade": false,
     "grade_id": "cell-8b0ea0df543b1534",
     "locked": false,
     "schema_version": 3,
     "solution": true
    }
   },
   "outputs": [],
   "source": [
    "def f(x):\n",
    "    return np.tan(x)-2*x\n",
    "\n",
    "def df(x):\n",
    "    return (1/(np.cos(x))**2) - 2"
   ]
  },
  {
   "cell_type": "code",
   "execution_count": 8,
   "metadata": {
    "deletable": false,
    "nbgrader": {
     "cell_type": "code",
     "checksum": "0d29e7b229eb6d422be0a28492525534",
     "grade": false,
     "grade_id": "cell-8b0ea0df5fef43b1534",
     "locked": false,
     "schema_version": 3,
     "solution": true
    }
   },
   "outputs": [
    {
     "name": "stdout",
     "output_type": "stream",
     "text": [
      "-1.6 ('X diverged to', -19078.552127169503)\n",
      "-1.4000000000000001 -1.165561185207641\n",
      "-1.2000000000000002 -1.1655611852072116\n",
      "-1.0000000000000002 -1.1655611852078998\n",
      "-0.8000000000000003 ('X diverged to', 6518656.847545927)\n",
      "-0.6000000000000003 -1.3338482607924002e-13\n",
      "-0.40000000000000036 1.828453973515623e-12\n",
      "-0.2000000000000004 1.3499587596865412e-21\n",
      "-4.440892098500626e-16 0.0\n",
      "0.1999999999999995 -1.3499587596865412e-21\n",
      "0.39999999999999947 -1.828453973515623e-12\n",
      "0.5999999999999992 1.3338482607924002e-13\n",
      "0.7999999999999994 ('X diverged to', 21485333.609621704)\n",
      "0.9999999999999996 1.1655611852078998\n",
      "1.1999999999999993 1.1655611852072116\n",
      "1.399999999999999 1.165561185207641\n",
      "1.5999999999999992 ('X diverged to', 295.80419501128125)\n"
     ]
    }
   ],
   "source": [
    "for i in np.arange(-1.6,1.61,0.2): #roughly spanning the range between +-pi/2\n",
    "\n",
    "        print(i, newton(f,df,i))\n",
    "        \n",
    "#we therefore find the roots are +-1.1655... and 0.\n",
    "#or we could identify the unique roots by iterating through them and rounding them to something like 5 decimal places"
   ]
  },
  {
   "cell_type": "markdown",
   "metadata": {},
   "source": [
    "We can visualise the result:"
   ]
  },
  {
   "cell_type": "code",
   "execution_count": 10,
   "metadata": {
    "deletable": false,
    "nbgrader": {
     "cell_type": "code",
     "checksum": "00bb88d2a24b4e1d531ee6e6d9eb61de",
     "grade": false,
     "grade_id": "cell-997c8b60a3053a38",
     "locked": false,
     "schema_version": 3,
     "solution": true
    }
   },
   "outputs": [
    {
     "data": {
      "image/png": "[encoded data removed]",
      "text/plain": [
       "<Figure size 432x288 with 1 Axes>"
      ]
     },
     "metadata": {
      "needs_background": "light"
     },
     "output_type": "display_data"
    }
   ],
   "source": [
    "%matplotlib inline\n",
    "import matplotlib.pyplot as plt\n",
    "\n",
    "# Plot f and df/dx\n",
    "x = np.linspace(-1.5, 1.5, 100)\n",
    "plt.plot(x, f(x), label='$f(x)$')\n",
    "plt.plot(x, df(x), label=\"$f^{\\prime}(x)$\")\n",
    "plt.legend(loc = 'best') #you need to add a legend for the labels to show up\n",
    "\n",
    "# Add location of roots to plot\n",
    "root1 = newton(f,df,1.2)\n",
    "plt.plot(root1, f(root1), marker='o', markersize=3, color=\"red\")\n",
    "root2 = newton(f,df,-1.2)\n",
    "plt.plot(root2, f(root2), marker='o', markersize=3, color=\"red\")\n",
    "#root 3 is 0.\n",
    "plt.plot(0,0,marker='o', markersize=3, color=\"red\")\n",
    "\n",
    "#N.B. the Newton Raphson method is equivalent to finding the tangent intersection with the x-axis for every iteration.\n",
    "\n",
    "plt.show()"
   ]
  },
  {
   "cell_type": "markdown",
   "metadata": {},
   "source": [
    "For the extension, we can replace the function `df(x)` with a new version"
   ]
  },
  {
   "cell_type": "code",
   "execution_count": 68,
   "metadata": {
    "deletable": false,
    "nbgrader": {
     "cell_type": "code",
     "checksum": "70a98780d957280ddaf074ca6a09f072",
     "grade": false,
     "grade_id": "cell-3d320bc0309566f1",
     "locked": false,
     "schema_version": 3,
     "solution": true
    }
   },
   "outputs": [],
   "source": [
    "def df(x):\n",
    "    # Try changing dx to 1e-15 or smaller -> I find that if dx is too small it leads to division by zero!\n",
    "    dx = 1e-9 #1e-6 - 1e-9 is the ideal region for dx\n",
    "    return (f(x+dx)-f(x-dx))/(2*dx)\n",
    "   \n",
    "\n",
    "#be super careful with brackets!!!!!!!!!!!!!!!\n",
    "#also note that the method is prone to divergence at starting points located near turning points where the derivative is zero!"
   ]
  },
  {
   "cell_type": "code",
   "execution_count": 37,
   "metadata": {
    "deletable": false,
    "editable": false,
    "nbgrader": {
     "cell_type": "code",
     "checksum": "7f6d1a0aa1ff4f83b22e337760138a88",
     "grade": true,
     "grade_id": "cell-3d320bc0309566f1wew",
     "locked": true,
     "points": 0,
     "schema_version": 3,
     "solution": false
    }
   },
   "outputs": [],
   "source": [
    "# Find roots near -1.2, 0.1, and 1.2\n",
    "xroots = np.array((newton(f, df, -1.2),\n",
    "                   newton(f, df, 0.1),\n",
    "                   newton(f, df, 1.2)))\n",
    "assert np.isclose(xroots, [-1.16556119e+00, 2.08575213e-10, 1.16556119e+00]).all()"
   ]
  },
  {
   "cell_type": "code",
   "execution_count": 69,
   "metadata": {
    "deletable": false,
    "nbgrader": {
     "cell_type": "code",
     "checksum": "7d165c7a27493d0f47424dc7ded291c7",
     "grade": false,
     "grade_id": "cell-f6c6dafb16f9b2a8",
     "locked": false,
     "schema_version": 3,
     "solution": true
    }
   },
   "outputs": [
    {
     "name": "stdout",
     "output_type": "stream",
     "text": [
      "1.1655611852072119\n"
     ]
    },
    {
     "data": {
      "image/png": "[encoded data removed]",
      "text/plain": [
       "<Figure size 432x288 with 1 Axes>"
      ]
     },
     "metadata": {
      "needs_background": "light"
     },
     "output_type": "display_data"
    }
   ],
   "source": [
    "print(newton(f,df,1.2))\n",
    "x = np.linspace(-1.5, 1.5, 100)\n",
    "plt.plot(x, f(x), label='$f(x)$')\n",
    "plt.plot(x, df(x), label=\"$f^{\\prime}(x)$\")\n",
    "plt.legend(loc = 'best') #you need to add a legend for the labels to show up\n",
    "\n",
    "# Add location of roots to plot\n",
    "root1 = newton(f,df,1.2)\n",
    "plt.plot(root1, f(root1), marker='o', markersize=3, color=\"red\")\n",
    "root2 = newton(f,df,0.1)\n",
    "plt.plot(root2, f(root2), marker='o', markersize=3, color=\"red\")\n",
    "root3 = newton(f,df,-1.2)\n",
    "plt.plot(root3, f(root3), marker='o', markersize=3, color=\"red\")\n",
    "plt.show()\n"
   ]
  },
  {
   "cell_type": "markdown",
   "metadata": {},
   "source": [
    "In practice, we could use the Newton function `scipy.optimize.newton` from SciPy (http://docs.scipy.org/doc/scipy/reference/generated/scipy.optimize.newton.html) rather than implementing our own function."
   ]
  },
  {
   "cell_type": "markdown",
   "metadata": {},
   "source": [
    "## Exercise 10.3 (optional, low pass image filter)\n",
    "\n",
    "Images files can be loaded and displayed with Matplotlib. An imported image is stored as a \n",
    "three-dimensional NumPy array of floats. The shape of the array is `[0:nx, 0:ny, 0:3]`. \n",
    "where `nx` is the number of pixels in the $x$-direction, `ny` is the number of pixels in the $y$-direction,\n",
    "and the third axis is for the colour component (RGB: red, green and blue) intensity. See http://matplotlib.org/users/image_tutorial.html for more background.\n",
    "\n",
    "Below we fetch an image and display it:"
   ]
  },
  {
   "cell_type": "code",
   "execution_count": 119,
   "metadata": {},
   "outputs": [
    {
     "name": "stdout",
     "output_type": "stream",
     "text": [
      "<class 'numpy.ndarray'>\n",
      "Image array shape: (375, 500, 3)\n"
     ]
    },
    {
     "data": {
      "image/png": "[encoded data removed]",
      "text/plain": [
       "<Figure size 432x288 with 1 Axes>"
      ]
     },
     "metadata": {
      "needs_background": "light"
     },
     "output_type": "display_data"
    }
   ],
   "source": [
    "%matplotlib inline\n",
    "import matplotlib.pyplot as plt\n",
    "import matplotlib.image as mpimg\n",
    "\n",
    "# Import image\n",
    "img = mpimg.imread('https://raw.githubusercontent.com/matplotlib/matplotlib.github.com/master/_images/stinkbug.png')\n",
    "#if it's local you need to add r before the string otherwise it gets misinterpreted\n",
    "# Check type and shape\n",
    "print(type(img))\n",
    "print(\"Image array shape: {}\".format(img.shape))\n",
    "\n",
    "# Display image\n",
    "plt.imshow(img);"
   ]
  },
  {
   "cell_type": "markdown",
   "metadata": {},
   "source": [
    "The task is to write a *function* that applies a particular low-pass filter algorithm to an image array \n",
    "and  returns the  filtered image. With this particular filter, the value of a pixel in the filtered image \n",
    "is equal to the average value of the four neighbouring pixels in the original image. For the `[i, j, :]` pixel, \n",
    "the neighbours are  `[i, j+1, :]`, `[i, j-1, :]`, `[i+1, j, :]` and  `[i-1, j, :]`. \n",
    "\n",
    "Run the filter algorithm multiple times on the above image to explore the effect of the filter.\n",
    "\n",
    "*Hint*: To create a NumPy array of zeros, `B`,  with the same shape as array `A`, use:\n",
    "```python\n",
    "import numpy as np\n",
    "B = np.zeros_like(A)\n",
    "```"
   ]
  },
  {
   "cell_type": "code",
   "execution_count": 120,
   "metadata": {
    "deletable": false,
    "nbgrader": {
     "cell_type": "code",
     "checksum": "824f26622746162aad76ca3791f94305",
     "grade": false,
     "grade_id": "cell-8bc3a81c6142b437",
     "locked": false,
     "schema_version": 3,
     "solution": true
    }
   },
   "outputs": [
    {
     "data": {
      "image/png": "[encoded data removed]",
      "text/plain": [
       "<Figure size 432x288 with 1 Axes>"
      ]
     },
     "metadata": {
      "needs_background": "light"
     },
     "output_type": "display_data"
    }
   ],
   "source": [
    "import numpy as np\n",
    "filteroni = np.zeros_like(img)\n",
    "\n",
    "#test = np.array([[1,1,1],[1,1,1]]) note to self: if constructing a matrix, you need an extra set of square brackets.\n",
    "#also note that without the inline command, cells below would affect the plot as it would be a live object in memory.\n",
    "\n",
    "#the image is stored as an array of 375 rows that are 500 long.\n",
    "#each element is then an array of length 3 representing rgb\n",
    "#so overall it's actually a 3-dimensional array.\n",
    "\n",
    "#not every pixel has four surrounding pixels so to prevent indexing errors, I had to handle the different types separately.\n",
    "#I could have done try-except control statements instead, but I don't think it would be much quicker, perhaps even slower.\n",
    "#(probably easier to read though)\n",
    "def filter(img):\n",
    "    dimensions = np.shape(img)\n",
    "\n",
    "    #bottom and top edges\n",
    "    for j in range(1,dimensions[1]-1): #columns\n",
    "        for k in range(dimensions[2]):\n",
    "\n",
    "            filteroni[0][j][k]= (img[0][j+1][k]+img[0][j-1][k]+img[1][j][k])/3 #topline of image excluding corners\n",
    "            filteroni[dimensions[0]-1][j][k]= (img[dimensions[0]-1][j+1][k]+img[dimensions[0]-1][j-1][k]+img[dimensions[0]-2][j][k])/3#bottom line, excluding corners\n",
    "\n",
    "    #left and right edges\n",
    "    for i in range(1,dimensions[0]-1): #rows\n",
    "        for k in range(dimensions[2]):\n",
    "\n",
    "            filteroni[i][0][k]= (img[i+1][0][k]+img[i-1][0][k]+img[i][1][k])/3 #left\n",
    "            filteroni[i][dimensions[1]-1][k]= (img[i+1][dimensions[1]-1][k]+img[i-1][dimensions[1]-1][k]+img[i][dimensions[1]-2][k])/3 #Right\n",
    "\n",
    "    #corners\n",
    "    for k in range(dimensions[2]):\n",
    "        filteroni[0][0][k]= (img[1][0][k]+img[0][1][k])/2 #top left\n",
    "        filteroni[0][dimensions[1]-1][k]= (img[0][dimensions[1]-2][k]+img[1][dimensions[1]-1][k])/2 #top right\n",
    "        filteroni[dimensions[0]-1][0][k]= (img[dimensions[0]-2][0][k]+img[dimensions[0]-1][1][k])/2 #bottom left\n",
    "        filteroni[dimensions[0]-1][dimensions[1]-1][k]= (img[dimensions[0]-2][dimensions[1]-1][k]+img[dimensions[0]-1][dimensions[1]-2][k])/2 #bottom right\n",
    "\n",
    "    #central block\n",
    "    for i in range(1,dimensions[0]-1): #375, rows\n",
    "        for j in range(1,dimensions[1]-1): #500, columns\n",
    "            for k in range(dimensions[2]):\n",
    "                filteroni[i][j][k]= (img[i][j+1][k]+img[i][j-1][k]+img[i+1][j][k]+img[i-1][j][k])/4\n",
    "    return filteroni\n",
    "\n",
    "filtered = filter(filter(filter(filter(img))))\n",
    "plt.imshow(filtered);\n",
    "#N.B. the filter's blurring/smoothing effects are quite obvious on this particular picture because of how thin the antennae are.\n",
    "#there's a lot of contrast against the background."
   ]
  },
  {
   "cell_type": "code",
   "execution_count": null,
   "metadata": {},
   "outputs": [],
   "source": []
  }
 ],
 "metadata": {
  "kernelspec": {
   "display_name": "Python 3",
   "language": "python",
   "name": "python3"
  },
  "language_info": {
   "codemirror_mode": {
    "name": "ipython",
    "version": 3
   },
   "file_extension": ".py",
   "mimetype": "text/x-python",
   "name": "python",
   "nbconvert_exporter": "python",
   "pygments_lexer": "ipython3",
   "version": "3.8.3"
  }
 },
 "nbformat": 4,
 "nbformat_minor": 4
}
