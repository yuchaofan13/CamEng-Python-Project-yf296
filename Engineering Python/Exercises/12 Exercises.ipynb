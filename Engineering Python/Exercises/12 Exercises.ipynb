{
 "cells": [
  {
   "cell_type": "markdown",
   "metadata": {},
   "source": [
    "## Exercise 12.1\n",
    "\n",
    "Create a class to represent vectors of arbitrary length and which is initialised with a list of values, e.g.:\n",
    "```python\n",
    "x = MyVector([0, 2, 4])\n",
    "```\n",
    "\n",
    "Equip the class with methods that:\n",
    "\n",
    "1. Return the length of the vector (use name `size`)\n",
    "2. Compute the norm of the vector $\\sqrt{x \\cdot x}$ (use name `norm`)\n",
    "3. Compute the dot product of the vector with another vector (use name `dot`)\n",
    "\n",
    "Test your implementation using two vectors of length 3. To help you get started, a skeleton of the class is provided below. Don't forget to use `self` where necessary."
   ]
  },
  {
   "cell_type": "code",
   "execution_count": null,
   "metadata": {},
   "outputs": [],
   "source": [
    "class MyVector:\n",
    "    \"\"\"A vector object that can return its size and norm, and can compute the dot product \n",
    "    with another vector  \"\"\"\n",
    "    \n",
    "    def __init__(self, x):\n",
    "        self.x = x #as an attribute, x is the data stored in the object\n",
    "        \n",
    "    # Return length of vector\n",
    "    def size(self):\n",
    "\n",
    "    # This allows access by index, e.g. y[2]\n",
    "    def __getitem__(self, index):\n",
    "        return self.x[index]\n",
    "\n",
    "    # Return norm of vector\n",
    "    def norm(self):\n",
    "        \n",
    "    \n",
    "    # Return dot product of vector with another vector\n",
    "    def dot(self, other):\n",
    "        \n",
    "#proper code is below"
   ]
  },
  {
   "cell_type": "markdown",
   "metadata": {},
   "source": [
    "### Solution"
   ]
  },
  {
   "cell_type": "code",
   "execution_count": 27,
   "metadata": {
    "deletable": false,
    "nbgrader": {
     "cell_type": "code",
     "checksum": "713c9493be9ec9fc9aca8f6f8f39c121",
     "grade": false,
     "grade_id": "cell-ff4d6cba19bb1b8e",
     "locked": false,
     "schema_version": 3,
     "solution": true
    }
   },
   "outputs": [],
   "source": [
    "import math  # Use this to get the sqrt\n",
    "\n",
    "class MyVector:\n",
    "    \"\"\"A vector object that can return its size and norm, and can compute the dot product \n",
    "    with another vector  \"\"\"\n",
    "\n",
    "    def __init__(self, x):\n",
    "        self.x = x #x is essentially the input\n",
    "        \n",
    "    # Return length of vector\n",
    "    def size(self):\n",
    "        s = 0\n",
    "        for i in self.x:\n",
    "            s+=1\n",
    "        return s\n",
    "    \n",
    "    # This allows access by index, e.g. y[2]\n",
    "    def __getitem__(self, index): #getitem is one of those magic methods.\n",
    "        return self.x[index] #x is a list, so return the index using that.\n",
    "\n",
    "    # Return norm of vector\n",
    "    def norm(self):\n",
    "        n = 0\n",
    "        for i in self.x:\n",
    "            n+=i**2\n",
    "        return math.sqrt(n)\n",
    "    \n",
    "    # Return dot product of vector with another vector\n",
    "    def dot(self, other):\n",
    "        d = 0\n",
    "        for i in range(self.size()):\n",
    "            d+=(self[i]*other[i])\n",
    "        return d\n",
    "    \n",
    "#self is the MyVector object\n",
    "#self.x is the attribute data stored- which (in this example) is a list. Hence self.x does not have the attribute .size()\n",
    "#but self does have that attribute."
   ]
  },
  {
   "cell_type": "code",
   "execution_count": 28,
   "metadata": {},
   "outputs": [
    {
     "name": "stdout",
     "output_type": "stream",
     "text": [
      "3\n",
      "7.0710678118654755\n",
      "86\n",
      "3\n"
     ]
    }
   ],
   "source": [
    "k = MyVector([3,4,5])\n",
    "print(k.size())\n",
    "print(k.norm())\n",
    "w = MyVector([6,7,8])\n",
    "print(k.dot(w))\n",
    "#it works!\n",
    "print(k[0])"
   ]
  },
  {
   "cell_type": "code",
   "execution_count": 62,
   "metadata": {
    "deletable": false,
    "editable": false,
    "nbgrader": {
     "cell_type": "code",
     "checksum": "1ed85d56501ddc8dc87d5784a25a3580",
     "grade": true,
     "grade_id": "cell-b601b5cc8cf8ab44",
     "locked": true,
     "points": 0,
     "schema_version": 3,
     "solution": false
    }
   },
   "outputs": [],
   "source": [
    "# Create two vectors\n",
    "u = MyVector([1, 1, 2])\n",
    "v = MyVector([2, 1, 1])\n",
    "\n",
    "assert u.size() == 3\n",
    "assert round(u.norm() - 2.449489742783178) == 0.0\n",
    "assert round(u.dot(v) - 5.0, 10) == 0.0 "
   ]
  },
  {
   "cell_type": "markdown",
   "metadata": {
    "deletable": false,
    "editable": false,
    "nbgrader": {
     "cell_type": "markdown",
     "checksum": "5da545895b150f78744a35c41d6eb9f4",
     "grade": false,
     "grade_id": "cell-d743191a516ffa05",
     "locked": true,
     "schema_version": 3,
     "solution": false
    }
   },
   "source": [
    "## Exercise 12.2\n",
    "\n",
    "1. Create a class for holding a student record entry. It should have the following attributes:\n",
    "   - Surname\n",
    "   - Forename\n",
    "   - Birth year\n",
    "   - Tripos year\n",
    "   - College\n",
    "   - CRSid (optional field)\n",
    "1. Equip your class with the method '`age`' that returns the age of the student in whole years\n",
    "1. Equip your class with the method '`__repr__`' such using `print` on a student record displays with the format\n",
    "\n",
    "       Surname: Bloggs, Forename: Andrea, College: Churchill\n",
    "\n",
    "1. Equip your class with the method `__lt__(self, other)` so that a list of record entries can be sorted by \n",
    "   (surname, forename) using the Python built-in sort function. \n",
    "   \n",
    "   Create a list of entries and test the sorting. Make sure you have two entries with the same\n",
    "   surname.\n",
    "\n",
    "> Recall that the methods starting with `__`, e.g. `__lt__` and `__repr__`, should **not** be called directly. \n",
    "> Python with map them to other operations, e.g. `__repr__` is called when using `print`, and `__lt__` is called \n",
    "> when using `<`. These functions must have a return value.\n",
    "\n",
    "*Hint:* To get the current year:"
   ]
  },
  {
   "cell_type": "code",
   "execution_count": 30,
   "metadata": {},
   "outputs": [
    {
     "name": "stdout",
     "output_type": "stream",
     "text": [
      "2020\n"
     ]
    }
   ],
   "source": [
    "import datetime\n",
    "year = datetime.date.today().year\n",
    "print(year)"
   ]
  },
  {
   "cell_type": "markdown",
   "metadata": {},
   "source": [
    "### Solution"
   ]
  },
  {
   "cell_type": "code",
   "execution_count": 60,
   "metadata": {
    "deletable": false,
    "nbgrader": {
     "cell_type": "code",
     "checksum": "254313b9c258e03732f4a60e5dee0b78",
     "grade": false,
     "grade_id": "cell-6e857f6089fe0ba8",
     "locked": false,
     "schema_version": 3,
     "solution": true
    }
   },
   "outputs": [],
   "source": [
    "import datetime \n",
    "class StudentEntry:\n",
    "    def __init__(self, surname, forename, birth_year, year, college, crsid=None):\n",
    "        self.surname = surname\n",
    "        self.forename = forename #all attributes, can't be called, so no braces at the end\n",
    "        self.birth_year = birth_year\n",
    "        self.year = year\n",
    "        self.college = college\n",
    "        self.crsid = crsid\n",
    "\n",
    "    def age(self):\n",
    "        return datetime.date.today().year - self.birth_year\n",
    "    \n",
    "    def __repr__(self): #what's shown when you print the object\n",
    "        \n",
    "        #you need to use two underscores on each side to make it work! not just one underscore on each side!!\n",
    "        return (\"Surname: {}, Forename: {}, College: {}\".format(self.surname,self.forename,self.college))\n",
    "    \n",
    "    def __lt__(self,other): #less than operator //remember double underscore!\n",
    "        \n",
    "        #N.B. python strings are immutable- you can't overwrite the value BUT you can reassign the value.\n",
    "        #Objects of built-in types like (int, float, bool, str, tuple, unicode) are immutable. \n",
    "        #Objects of built-in types like (list, set, dict) are mutable. Custom classes are generally mutable.\n",
    "        \n",
    "        #can use <> operators on strings. Python compares the ASCII values of characters.\n",
    "        if self.surname < other.surname:\n",
    "            #N.B. if one is part of the other, e.g. free and freedom, then the longer one will be greater.\n",
    "            return True\n",
    "        elif self.surname == other.surname:\n",
    "            if self.forename < other.forename:\n",
    "                return True\n",
    "            elif self.forename == other.forename:\n",
    "                return True #doesn't really matter, completely identical names.\n",
    "            else:\n",
    "                return False\n",
    "        else:\n",
    "            return False\n",
    "        \n",
    "        #it appears you don't need to define __gt__ or __eq__ as long as __lt__ is completely defined.\n",
    "#https://stackoverflow.com/questions/11705371/python-sort-custom-class-without-use-of-key-argument"
   ]
  },
  {
   "cell_type": "code",
   "execution_count": 61,
   "metadata": {
    "deletable": false,
    "editable": false,
    "nbgrader": {
     "cell_type": "code",
     "checksum": "d60f32b3e00d631930ecf9478a0336bb",
     "grade": true,
     "grade_id": "cell-ce8aafb3e627dd86",
     "locked": true,
     "points": 0,
     "schema_version": 3,
     "solution": false
    }
   },
   "outputs": [],
   "source": [
    "s0 = StudentEntry(\"Bloggs\", \"Andrea\", 1996, 1, \"Churchill\", \"ab1001\")       \n",
    "s1 = StudentEntry(\"Reali\", \"John\", 1997, 1, \"Corpus Christi\")       \n",
    "s2 = StudentEntry(\"Bacon\", \"Kevin\", 1996, 1, \"Newnham\")\n",
    "s3 = StudentEntry(\"Bacon\", \"Alexander\", 1996, 1, \"Queens\")\n",
    "\n",
    "assert s0 < s1\n",
    "assert s0 > s2\n",
    "assert s3 < s2\n",
    "assert s0.age() ==  datetime.date.today().year - 1996 \n",
    "assert s1.age() ==  datetime.date.today().year - 1997\n",
    "assert str(s1) == \"Surname: Reali, Forename: John, College: Corpus Christi\"\n",
    "\n",
    "# Test sorting\n",
    "s = [s0, s1, s2, s3]\n",
    "s.sort()\n",
    "for earlier, later in zip(s, s[1:]):\n",
    "    assert earlier.surname <= later.surname\n",
    "    if earlier.surname == later.surname:\n",
    "        assert earlier.forename <= later.forename"
   ]
  },
  {
   "cell_type": "code",
   "execution_count": 59,
   "metadata": {},
   "outputs": [
    {
     "name": "stdout",
     "output_type": "stream",
     "text": [
      "[Surname: Bloggs, Forename: Af, College: Corpus Christi, Surname: Bloggs, Forename: Andrea, College: Churchill, Surname: Bloggs, Forename: Andrea, College: Churchill, Surname: Clap, Forename: Andrea, College: Churchill, Surname: Doll, Forename: John, College: Corpus Christi]\n"
     ]
    }
   ],
   "source": [
    "j1 = StudentEntry(\"Bloggs\", \"Andrea\", 1996, 1, \"Churchill\", \"ab1001\")       \n",
    "j2 = StudentEntry(\"Bloggs\", \"Af\", 1997, 1, \"Corpus Christi\")   \n",
    "j3 = StudentEntry(\"Clap\", \"Andrea\", 1996, 1, \"Churchill\", \"ab1001\")       \n",
    "j4 = StudentEntry(\"Doll\", \"John\", 1997, 1, \"Corpus Christi\")\n",
    "j5 = StudentEntry(\"Bloggs\", \"Andrea\", 1997, 1, \"Churchill\", \"ab1001\") \n",
    "j = [j1,j2,j3,j4,j5]\n",
    "print(sorted(j))"
   ]
  },
  {
   "cell_type": "code",
   "execution_count": null,
   "metadata": {},
   "outputs": [],
   "source": []
  }
 ],
 "metadata": {
  "kernelspec": {
   "display_name": "Python 3",
   "language": "python",
   "name": "python3"
  },
  "language_info": {
   "codemirror_mode": {
    "name": "ipython",
    "version": 3
   },
   "file_extension": ".py",
   "mimetype": "text/x-python",
   "name": "python",
   "nbconvert_exporter": "python",
   "pygments_lexer": "ipython3",
   "version": "3.8.3"
  }
 },
 "nbformat": 4,
 "nbformat_minor": 4
}
