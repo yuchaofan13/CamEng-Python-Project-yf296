{
 "cells": [
  {
   "cell_type": "markdown",
   "metadata": {
    "deletable": false,
    "editable": false,
    "nbgrader": {
     "cell_type": "markdown",
     "checksum": "8ceeabcb46de5ad626384fc60e218d16",
     "grade": false,
     "grade_id": "cell-bccc9a5624d0e0f9",
     "locked": true,
     "schema_version": 3,
     "solution": false
    }
   },
   "source": [
    "## Exercise 03.1\n",
    "\n",
    "Compare the computed values of \n",
    "\n",
    "$$ \n",
    "d_0 = a \\cdot b + a  \\cdot  c\n",
    "$$\n",
    "\n",
    "and \n",
    "\n",
    "$$ \n",
    "d_1 = a \\cdot (b + c)\n",
    "$$\n",
    "\n",
    "when $a = 100$, $b = 0.1$ and $c = 0.2$. Store $d_{0}$ in the variable `d0` and $d_{1}$ in the variable `d1`.\n",
    "\n",
    "\n",
    "Try checking for equality, e.g. `print(d0 == d1)`. "
   ]
  },
  {
   "cell_type": "code",
   "execution_count": 4,
   "metadata": {
    "deletable": false,
    "nbgrader": {
     "cell_type": "code",
     "checksum": "30e30b82e08f44a2f3f834314203be69",
     "grade": false,
     "grade_id": "cell-447110c225124fc4",
     "locked": false,
     "schema_version": 3,
     "solution": true
    }
   },
   "outputs": [
    {
     "name": "stdout",
     "output_type": "stream",
     "text": [
      "False\n",
      "30.0\n"
     ]
    }
   ],
   "source": [
    "d0=100*0.1+100*0.2\n",
    "d1 = 100*(0.1+0.2)\n",
    "print(d0==d1)\n",
    "print(d0)"
   ]
  },
  {
   "cell_type": "code",
   "execution_count": 2,
   "metadata": {
    "deletable": false,
    "editable": false,
    "nbgrader": {
     "cell_type": "code",
     "checksum": "56a58c181d43d8dbad56dff6ed45377a",
     "grade": true,
     "grade_id": "cell-91f2d89d88ea86c0",
     "locked": true,
     "points": 0,
     "schema_version": 3,
     "solution": false
    }
   },
   "outputs": [],
   "source": [
    "assert d0 == 30.0\n",
    "assert d1 != 30.0\n",
    "assert d0 != d1"
   ]
  },
  {
   "cell_type": "markdown",
   "metadata": {},
   "source": [
    "## Exercise 03.2\n",
    "\n",
    "For the polynomial \n",
    "\\begin{align}\n",
    "f(x, y) &= (x + y)^{6} \n",
    "\\\\\n",
    "&=  x^6 + 6x^{5}y + 15x^{4}y^{2} + 20x^{3}y^{3} + 15x^{2}y^{4} + 6xy^{5} + y^{6}\n",
    "\\end{align}\n",
    "compute $f$ using: (i) the compact form $(x + y)^{6}$; and (ii) the expanded form for:\n",
    "\n",
    "(a) $x = 10$ and $y = 10.1$\n",
    "\n",
    "(b) $x = 10$ and $y = -10.1$\n",
    "\n",
    "and compare the number of significant digits for which the answers are the same.\n",
    "Store the answer for the compact version using the variable `f0`, and using the variable `f1` for the expanded version.\n",
    "\n",
    "For case (b), compare the computed and analytical solutions and consider the relative error.\n",
    "Which approach would you recommend for computing this expression?"
   ]
  },
  {
   "cell_type": "markdown",
   "metadata": {},
   "source": [
    "#### (a) $x = 10$ and $y = 10.1$"
   ]
  },
  {
   "cell_type": "code",
   "execution_count": 3,
   "metadata": {
    "deletable": false,
    "nbgrader": {
     "cell_type": "code",
     "checksum": "908f40d0d9b9a84a5daeb5f1d2a18a3c",
     "grade": false,
     "grade_id": "cell-e8428e3de87d5500",
     "locked": false,
     "schema_version": 3,
     "solution": true
    }
   },
   "outputs": [
    {
     "name": "stdout",
     "output_type": "stream",
     "text": [
      "65944160.60120103 65944160.601201\n"
     ]
    }
   ],
   "source": [
    "x = 10.0\n",
    "y = 10.1\n",
    "f0 = (x+y)**6\n",
    "\n",
    "f1 = x**6+6*(x**5)*(y)+15*(x**4)*(y**2)+20*(x**3)*(y**3)+15*(x**2)*(y**4)+6*x*(y**5)+y**6\n",
    "print(f0, f1)\n",
    "#same value to 14 significant figures"
   ]
  },
  {
   "cell_type": "code",
   "execution_count": 4,
   "metadata": {
    "deletable": false,
    "editable": false,
    "nbgrader": {
     "cell_type": "code",
     "checksum": "a4940106bcc4e616b922050d78981780",
     "grade": true,
     "grade_id": "cell-55d184514edf3a67",
     "locked": true,
     "points": 0,
     "schema_version": 3,
     "solution": false
    }
   },
   "outputs": [],
   "source": [
    "import math\n",
    "assert math.isclose(f0, 65944160.60120103, rel_tol=1e-10)\n",
    "assert math.isclose(f1, 65944160.601201, rel_tol=1e-10)"
   ]
  },
  {
   "cell_type": "markdown",
   "metadata": {},
   "source": [
    "#### (b) $x = 10$ and $y = -10.1$"
   ]
  },
  {
   "cell_type": "code",
   "execution_count": 6,
   "metadata": {
    "deletable": false,
    "nbgrader": {
     "cell_type": "code",
     "checksum": "e36a4f376b117817ad05ca02c2bda3c6",
     "grade": false,
     "grade_id": "cell-1561d20281ff67f6",
     "locked": false,
     "schema_version": 3,
     "solution": true
    }
   },
   "outputs": [
    {
     "name": "stdout",
     "output_type": "stream",
     "text": [
      "9.999999999999788e-07 9.958166629076004e-07\n"
     ]
    }
   ],
   "source": [
    "x = 10.0\n",
    "y = -10.1\n",
    "\n",
    "f0 = (x+y)**6\n",
    "\n",
    "f1 = x**6+6*(x**5)*(y)+15*(x**4)*(y**2)+20*(x**3)*(y**3)+15*(x**2)*(y**4)+6*x*(y**5)+y**6\n",
    "print(f0, f1)\n",
    "#actual value should be (-0.1)*6 = 1x 10^-6\n",
    "#Therefore, f0 is closer-> the computed solution is more accurate here."
   ]
  },
  {
   "cell_type": "code",
   "execution_count": null,
   "metadata": {},
   "outputs": [],
   "source": [
    "import math\n",
    "assert math.isclose(f0, 1.0e-6, rel_tol=1e-10)\n",
    "assert math.isclose(f1, 1.0e-6, rel_tol=1e-2)"
   ]
  },
  {
   "cell_type": "markdown",
   "metadata": {},
   "source": [
    "## Exercise 03.3\n",
    "\n",
    "Consider the expression\n",
    "\n",
    "$$\n",
    "f = \\frac{1}{\\sqrt{x^2 - 1} - x}\n",
    "$$\n",
    "\n",
    "When $x$ is very large, the denominator approaches zero, which can cause problems.\n",
    "\n",
    "Try rephrasing the problem and eliminating the fraction by multiplying the numerator and denominator by $\\sqrt{x^2 - 1} + x$ and evaluate the two versions of the expression when:\n",
    "\n",
    "(a) $x = 1 \\times 10^{7}$\n",
    "\n",
    "(b) $x = 1 \\times 10^{9}$ (You may get a Python error for this case. Why?)"
   ]
  },
  {
   "cell_type": "markdown",
   "metadata": {
    "deletable": false,
    "editable": false,
    "nbgrader": {
     "cell_type": "markdown",
     "checksum": "c09b66f37bdee28ed52c52b6017f2cf2",
     "grade": false,
     "grade_id": "cell-53e1abf388eedabe",
     "locked": true,
     "schema_version": 3,
     "solution": false
    }
   },
   "source": [
    "#### (a) $x = 1 \\times 10^{7}$"
   ]
  },
  {
   "cell_type": "code",
   "execution_count": 28,
   "metadata": {
    "deletable": false,
    "nbgrader": {
     "cell_type": "code",
     "checksum": "07ff77b706b18c392edfb815685a3bc3",
     "grade": true,
     "grade_id": "cell-149ac8791e7ff020",
     "locked": false,
     "points": 0,
     "schema_version": 3,
     "solution": true
    }
   },
   "outputs": [
    {
     "name": "stdout",
     "output_type": "stream",
     "text": [
      "-5.029141902923584e-08\n",
      "-19884107.85185185\n",
      "-19999999.999999948\n"
     ]
    }
   ],
   "source": [
    "#import numpy as np\n",
    "#print(np.finfo(f))\n",
    "#64bits used to store floats here, just checking\n",
    "\n",
    "x = 1.0e7\n",
    "f = 1/((x**2-1)**0.5-x)\n",
    "\n",
    "f1 = ((x**2-1)**0.5+x)/(-1)\n",
    "\n",
    "\n",
    "denom = (x**2-1)**0.5-x #notzero\n",
    "print(denom)\n",
    "print(f)\n",
    "print(f1)\n"
   ]
  },
  {
   "cell_type": "markdown",
   "metadata": {
    "deletable": false,
    "editable": false,
    "nbgrader": {
     "cell_type": "markdown",
     "checksum": "c2132f7f9da6593c6536e19435aeeab7",
     "grade": false,
     "grade_id": "cell-bcc863a1c5c8a6f8",
     "locked": true,
     "schema_version": 3,
     "solution": false
    }
   },
   "source": [
    "#### (b) $x = 1 \\times 10^{9}$"
   ]
  },
  {
   "cell_type": "code",
   "execution_count": 1,
   "metadata": {
    "deletable": false,
    "nbgrader": {
     "cell_type": "code",
     "checksum": "c2e05e9fd5ffdd3901355b52c90169ba",
     "grade": true,
     "grade_id": "cell-4ef986ef1f5838ba",
     "locked": false,
     "points": 0,
     "schema_version": 3,
     "solution": true
    }
   },
   "outputs": [
    {
     "name": "stdout",
     "output_type": "stream",
     "text": [
      "-2000000000.0\n"
     ]
    },
    {
     "ename": "ZeroDivisionError",
     "evalue": "float division by zero",
     "output_type": "error",
     "traceback": [
      "\u001b[1;31m---------------------------------------------------------------------------\u001b[0m",
      "\u001b[1;31mZeroDivisionError\u001b[0m                         Traceback (most recent call last)",
      "\u001b[1;32m<ipython-input-1-ac63f0d422ab>\u001b[0m in \u001b[0;36m<module>\u001b[1;34m\u001b[0m\n\u001b[0;32m      9\u001b[0m \u001b[1;33m\u001b[0m\u001b[0m\n\u001b[0;32m     10\u001b[0m \u001b[1;33m\u001b[0m\u001b[0m\n\u001b[1;32m---> 11\u001b[1;33m \u001b[0mf\u001b[0m \u001b[1;33m=\u001b[0m \u001b[1;36m1\u001b[0m\u001b[1;33m/\u001b[0m\u001b[1;33m(\u001b[0m\u001b[1;33m(\u001b[0m\u001b[0mx\u001b[0m\u001b[1;33m**\u001b[0m\u001b[1;36m2\u001b[0m\u001b[1;33m-\u001b[0m\u001b[1;36m1\u001b[0m\u001b[1;33m)\u001b[0m\u001b[1;33m**\u001b[0m\u001b[1;36m0.5\u001b[0m\u001b[1;33m-\u001b[0m\u001b[0mx\u001b[0m\u001b[1;33m)\u001b[0m\u001b[1;33m\u001b[0m\u001b[1;33m\u001b[0m\u001b[0m\n\u001b[0m\u001b[0;32m     12\u001b[0m \u001b[1;33m\u001b[0m\u001b[0m\n\u001b[0;32m     13\u001b[0m \u001b[1;31m#f, the original form of the expression, gives a Zero division error because the denominator is so close to zero. Because two values that are almost identical are subtracted from one another.\u001b[0m\u001b[1;33m\u001b[0m\u001b[1;33m\u001b[0m\u001b[1;33m\u001b[0m\u001b[0m\n",
      "\u001b[1;31mZeroDivisionError\u001b[0m: float division by zero"
     ]
    }
   ],
   "source": [
    "import decimal\n",
    "\n",
    "x = 10**9\n",
    "\n",
    "f1 = ((x**2-1)**0.5+x)/(-1)\n",
    "print(f1)\n",
    "\n",
    "\n",
    "\n",
    "\n",
    "f = 1/((x**2-1)**0.5-x)\n",
    "\n",
    "#f, the original form of the expression, gives a Zero division error because the denominator is so close to zero. \n",
    "#This happened because two values that are almost identical are subtracted from one another.\n",
    "#whereas the adjusted form f1 avoids this; by rationalising the denominator, the numerator then becomes a sum of two positive values, rendering a zero divison error impossible."
   ]
  },
  {
   "cell_type": "code",
   "execution_count": 14,
   "metadata": {},
   "outputs": [
    {
     "name": "stdout",
     "output_type": "stream",
     "text": [
      "<class 'float'>\n",
      "this is the denominator as calculated for the original f\n",
      "1000000000000000000.000000000000000000000000000000\n",
      "this is the denominator once decimal.Decimal is applied\n",
      "999999999999999999\n",
      "This is the final result: -2E+9\n",
      "True\n",
      "False\n",
      "99999999999999.0\n",
      "1e+16\n"
     ]
    }
   ],
   "source": [
    "#exploring cause of the zero division error\n",
    "#first we look at the denominator of f\n",
    "denom = (x**2-1)**0.5-x\n",
    "print(type(denom))\n",
    "#denominator of f should actually be -5 x 10^-10, but here it is calculated to be zero.\n",
    "#btw it's a float\n",
    "\n",
    "print(\"this is the denominator as calculated for the original f\")\n",
    "print('{0:.30f}'.format(x**2-1))\n",
    "#we print this value to suppsoedly 30 significant places and find that it has been rounded.\n",
    "#This is what causes equivalency between the two terms in the denominator, and therefore the zero divsion error in f.\n",
    "\n",
    "\n",
    "# on a side note, 0.5 does not have roundoff error here.\n",
    "\n",
    "\n",
    "xsquared = decimal.Decimal(x**2)\n",
    "xsquaredminone = xsquared -1\n",
    "print(\"this is the denominator once decimal.Decimal is applied\")\n",
    "print(xsquaredminone)\n",
    "pointfive = decimal.Decimal(0.5)\n",
    "rooted = xsquaredminone **pointfive\n",
    "xdec = decimal.Decimal(x)\n",
    "result = 1/(rooted-xdec)\n",
    "print(\"This is the final result:\",result)\n",
    "\n",
    "#Here I replicate the exact operations in f step by step but apply decimal.Decimal as above to prevent premature rounding \n",
    "#This allows f to give the same result as f1\n",
    "\n",
    "#this tells us the key error with f is that x**2-1 is rounded to x**2. This results in a denomiantor of 0 and therefore zero error.\n",
    "#the default level of precision for floats in depends on what hardware you're running\n",
    "\n",
    "print((1e9)**2-1==1000000000000000000)\n",
    "print((1e9)**2-1==999999999999999999)\n",
    "#this is a much simpler demonstration of the core problem. \n",
    "print((1e7)**2-1)\n",
    "print((1e8)**2-1)\n",
    "#this issue did not occur earlier with 1e7 which had 14 significant figures\n",
    "#but with 1e8, which gives 16 significant figures, the precision issue begins.\n",
    "#Python uses 64 bit floats\n",
    "#IEEE-754 standard means that bits are used to store the sign, exponent and then the fraction-> fraction is essentially the numeb rof significant figures.\n",
    "#As such, Python actually has 53 bit precision for the fraction part.\n",
    "#2^53 = 10^15.955\n",
    "#Therefore precision cannot exceed 15.955 decimal digits.\n",
    "#double precision floating point format\n"
   ]
  },
  {
   "cell_type": "code",
   "execution_count": null,
   "metadata": {},
   "outputs": [],
   "source": [
    "#to get greek letters, do \\lambda then press tab key."
   ]
  }
 ],
 "metadata": {
  "kernelspec": {
   "display_name": "Python 3",
   "language": "python",
   "name": "python3"
  },
  "language_info": {
   "codemirror_mode": {
    "name": "ipython",
    "version": 3
   },
   "file_extension": ".py",
   "mimetype": "text/x-python",
   "name": "python",
   "nbconvert_exporter": "python",
   "pygments_lexer": "ipython3",
   "version": "3.8.3"
  }
 },
 "nbformat": 4,
 "nbformat_minor": 4
}
