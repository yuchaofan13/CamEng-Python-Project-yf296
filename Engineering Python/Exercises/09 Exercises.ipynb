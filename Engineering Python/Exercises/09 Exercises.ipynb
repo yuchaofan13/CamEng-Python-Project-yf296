{
 "cells": [
  {
   "cell_type": "markdown",
   "metadata": {},
   "source": [
    "## Exercise 09.1 (checking data validity)\n",
    "\n",
    "The Fibonacci series is valid only for $n \\ge 0$. Add to the Fibonacci function in this notebook a check that raises an exception if $n < 0$. Try some invalid data cases to check that an exception is raised.\n",
    "\n",
    "*Optional:* Use `pytest` to test that an exception *is* raised for some $n < 0$ cases."
   ]
  },
  {
   "cell_type": "code",
   "execution_count": 31,
   "metadata": {
    "deletable": false,
    "nbgrader": {
     "cell_type": "code",
     "checksum": "3bf4474f254eb94df13368bcbdfbbd25",
     "grade": false,
     "grade_id": "cell-982c3611466532a2",
     "locked": false,
     "schema_version": 3,
     "solution": true
    }
   },
   "outputs": [
    {
     "ename": "ValueError",
     "evalue": "Please input a positive integer",
     "output_type": "error",
     "traceback": [
      "\u001b[1;31m---------------------------------------------------------------------------\u001b[0m",
      "\u001b[1;31mValueError\u001b[0m                                Traceback (most recent call last)",
      "\u001b[1;32m<ipython-input-31-4a06c9a867e0>\u001b[0m in \u001b[0;36m<module>\u001b[1;34m\u001b[0m\n\u001b[0;32m      9\u001b[0m     \u001b[1;32melse\u001b[0m\u001b[1;33m:\u001b[0m\u001b[1;33m\u001b[0m\u001b[1;33m\u001b[0m\u001b[0m\n\u001b[0;32m     10\u001b[0m         \u001b[1;32mreturn\u001b[0m \u001b[0mf\u001b[0m\u001b[1;33m(\u001b[0m\u001b[0mn\u001b[0m\u001b[1;33m-\u001b[0m\u001b[1;36m1\u001b[0m\u001b[1;33m)\u001b[0m \u001b[1;33m+\u001b[0m \u001b[0mf\u001b[0m\u001b[1;33m(\u001b[0m\u001b[0mn\u001b[0m\u001b[1;33m-\u001b[0m\u001b[1;36m2\u001b[0m\u001b[1;33m)\u001b[0m\u001b[1;33m\u001b[0m\u001b[1;33m\u001b[0m\u001b[0m\n\u001b[1;32m---> 11\u001b[1;33m \u001b[0mf\u001b[0m\u001b[1;33m(\u001b[0m\u001b[1;33m-\u001b[0m\u001b[1;36m10\u001b[0m\u001b[1;33m)\u001b[0m\u001b[1;33m\u001b[0m\u001b[1;33m\u001b[0m\u001b[0m\n\u001b[0m",
      "\u001b[1;32m<ipython-input-31-4a06c9a867e0>\u001b[0m in \u001b[0;36mf\u001b[1;34m(n)\u001b[0m\n\u001b[0;32m      2\u001b[0m     \u001b[1;34m\"Compute the nth Fibonacci number using recursion\"\u001b[0m\u001b[1;33m\u001b[0m\u001b[1;33m\u001b[0m\u001b[0m\n\u001b[0;32m      3\u001b[0m     \u001b[1;32mif\u001b[0m \u001b[0mn\u001b[0m\u001b[1;33m<\u001b[0m\u001b[1;36m0\u001b[0m\u001b[1;33m:\u001b[0m\u001b[1;33m\u001b[0m\u001b[1;33m\u001b[0m\u001b[0m\n\u001b[1;32m----> 4\u001b[1;33m         \u001b[1;32mraise\u001b[0m \u001b[0mValueError\u001b[0m\u001b[1;33m(\u001b[0m\u001b[1;34m\"Please input a positive integer\"\u001b[0m\u001b[1;33m)\u001b[0m \u001b[1;31m#should be RecursionError instead\u001b[0m\u001b[1;33m\u001b[0m\u001b[1;33m\u001b[0m\u001b[0m\n\u001b[0m\u001b[0;32m      5\u001b[0m     \u001b[1;32melif\u001b[0m \u001b[0mn\u001b[0m \u001b[1;33m==\u001b[0m\u001b[1;36m0\u001b[0m\u001b[1;33m:\u001b[0m\u001b[1;33m\u001b[0m\u001b[1;33m\u001b[0m\u001b[0m\n\u001b[0;32m      6\u001b[0m         \u001b[1;32mreturn\u001b[0m \u001b[1;36m0\u001b[0m\u001b[1;33m\u001b[0m\u001b[1;33m\u001b[0m\u001b[0m\n",
      "\u001b[1;31mValueError\u001b[0m: Please input a positive integer"
     ]
    }
   ],
   "source": [
    "def f(n): \n",
    "    \"Compute the nth Fibonacci number using recursion\"\n",
    "    if n<0:\n",
    "        raise ValueError(\"Please input a positive integer\") #should be RecursionError instead\n",
    "    elif n ==0:\n",
    "        return 0\n",
    "    elif n ==1:\n",
    "        return 1\n",
    "    else:\n",
    "        return f(n-1) + f(n-2)\n",
    "f(-10)"
   ]
  },
  {
   "cell_type": "code",
   "execution_count": 32,
   "metadata": {
    "deletable": false,
    "editable": false,
    "nbgrader": {
     "cell_type": "code",
     "checksum": "9f9ac524212d33e97978ac73892d6d39",
     "grade": true,
     "grade_id": "cell-9b97ea3e85d77f4a",
     "locked": true,
     "points": 0,
     "schema_version": 3,
     "solution": false
    }
   },
   "outputs": [],
   "source": [
    "# Perform some tests    \n",
    "assert f(0) == 0\n",
    "assert f(1) == 1\n",
    "assert f(2) == 1\n",
    "assert f(3) == 2\n",
    "assert f(10) == 55\n",
    "assert f(15) == 610\n",
    "\n",
    "# Check that ValueError is raised for n < 0\n",
    "import pytest\n",
    "with pytest.raises(ValueError):\n",
    "    f(-1)\n",
    "with pytest.raises(ValueError):\n",
    "    f(-2)"
   ]
  },
  {
   "cell_type": "markdown",
   "metadata": {
    "deletable": false,
    "editable": false,
    "nbgrader": {
     "cell_type": "markdown",
     "checksum": "e95262d50b5fedef7da21e1741ff513d",
     "grade": false,
     "grade_id": "cell-69c78c0ffc19db36",
     "locked": true,
     "schema_version": 3,
     "solution": false
    }
   },
   "source": [
    "## Exercise 09.2 (raising exceptions)\n",
    "\n",
    "Modify your program from the bisection exercise in Activity 04 to raise an error if the maximum number of iterations is exceeded. Reduce the maximum allowed iterations to test that an exception is raised.\n",
    "\n",
    "Add any other checks on the input data that you think are appropriate."
   ]
  },
  {
   "cell_type": "code",
   "execution_count": 72,
   "metadata": {
    "deletable": false,
    "nbgrader": {
     "cell_type": "code",
     "checksum": "54a2b2c493794b64ac8c709d3b554426",
     "grade": false,
     "grade_id": "cell-ca2c3ee62ad3b956",
     "locked": false,
     "schema_version": 3,
     "solution": true
    }
   },
   "outputs": [],
   "source": [
    "def my_f(x):\n",
    "    \"Evaluate polynomial function\"\n",
    "    return x**3 - 6*x**2 + 4*x + 12\n",
    "\n",
    "def compute_root(f, x0, x1, tol, max_it,it_count = 0):\n",
    "    \n",
    "    \n",
    "    if max_it<0 or tol<0:\n",
    "        raise ValueError\n",
    "    if isinstance(max_it,int) == False:\n",
    "        \n",
    "        raise TypeError(\"Please input max iterations as an integer\")\n",
    "    if isinstance(x0,(int,float))== False:\n",
    "        raise TypeError(\"Starting point not a number\")\n",
    "    \n",
    "    if isinstance(x1,(int,float))==False:\n",
    "        raise TypeError(\"Endpoint not a number\")\n",
    "    if isinstance(tol,(int,float))==False:\n",
    "        raise TypeError(\"Tolerance not a number\")\n",
    "    if isinstance(f(x0),(int,float))==False:\n",
    "        raise TypeError(\"Error with function, or f(x0) is undefined\")\n",
    "#x0 does not necessarily have to be less than x1 for this to work\n",
    "#could include f(x0)>0 and f(x1)<0 or vice versa-....but as with the case x0=x1, this would be caught by the max iterations error.\n",
    "        \n",
    "    \n",
    "    x_mid = (x0+x1)/2\n",
    "    f_mid = f(x_mid) #original f_mid\n",
    "    f0 = f(x0)\n",
    "\n",
    "    if f0*f_mid<0: \n",
    "        x1 = x_mid #set the new endpoint as x_mid; not the same as x_mid = x1 !!!!\n",
    "    else:\n",
    "        x0 = x_mid #set the new starting point as x_mid\n",
    "    it_count +=1 \n",
    "\n",
    "    f_mid = f(x_mid) #new f_mid\n",
    "    \n",
    "    if it_count > max_it: \n",
    "        raise RuntimeError(\"Maximum iterations exceeded.\") #perhaps the answer diverges, or more iterations are needed.\n",
    "    elif abs(f_mid) < tol:\n",
    "        return x_mid, f_mid, it_count\n",
    "        #return ends the function; the iteration error takes priority so that goes first.\n",
    "    else:\n",
    "        return compute_root(f, x0, x1, tol, max_it, it_count) #recursion with new x0, x1\n",
    "    #and itcount is no longer its default value\n",
    "\n",
    "#23 iterations max_it will work, but 22 won't. So the error handling system is effective."
   ]
  },
  {
   "cell_type": "code",
   "execution_count": 73,
   "metadata": {
    "deletable": false,
    "editable": false,
    "nbgrader": {
     "cell_type": "code",
     "checksum": "245f74804add47d7a569230c5677fb0a",
     "grade": true,
     "grade_id": "cell-f6cf91ed5dd1736b",
     "locked": true,
     "points": 0,
     "schema_version": 3,
     "solution": false
    }
   },
   "outputs": [],
   "source": [
    "# Test with max_it = 30\n",
    "x, f, num_it = compute_root(my_f, x0=3, x1=6, tol=1.0e-6, max_it=30)\n",
    "\n",
    "# Test with max_it = 20\n",
    "with pytest.raises(RuntimeError):\n",
    "    x, f, num_it = compute_root(my_f, x0=3, x1=6, tol=1.0e-6, max_it=20)"
   ]
  },
  {
   "cell_type": "code",
   "execution_count": null,
   "metadata": {},
   "outputs": [],
   "source": []
  }
 ],
 "metadata": {
  "kernelspec": {
   "display_name": "Python 3",
   "language": "python",
   "name": "python3"
  },
  "language_info": {
   "codemirror_mode": {
    "name": "ipython",
    "version": 3
   },
   "file_extension": ".py",
   "mimetype": "text/x-python",
   "name": "python",
   "nbconvert_exporter": "python",
   "pygments_lexer": "ipython3",
   "version": "3.8.3"
  }
 },
 "nbformat": 4,
 "nbformat_minor": 4
}
