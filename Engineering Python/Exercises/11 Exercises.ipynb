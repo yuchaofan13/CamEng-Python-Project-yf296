{
 "cells": [
  {
   "cell_type": "markdown",
   "metadata": {},
   "source": [
    "Import the modules that will be used."
   ]
  },
  {
   "cell_type": "code",
   "execution_count": 4,
   "metadata": {},
   "outputs": [],
   "source": [
    "import numpy as np\n",
    "import matplotlib\n",
    "import matplotlib.pyplot as plt\n",
    "\n",
    "%matplotlib inline"
   ]
  },
  {
   "cell_type": "markdown",
   "metadata": {
    "deletable": false,
    "editable": false,
    "nbgrader": {
     "cell_type": "markdown",
     "checksum": "1edc226b40602fb86b89bc96c778bd2e",
     "grade": false,
     "grade_id": "cell-f3291e5d760308db",
     "locked": true,
     "schema_version": 3,
     "solution": false
    }
   },
   "source": [
    "## Exercise 11.1\n",
    "\n",
    "Determine by counting the number of mathematical operations the complexity of:\n",
    "\n",
    "1. Dot product between two vectors\n",
    "1. Matrix-vector product\n",
    "1. Matrix-matrix product\n",
    "\n",
    "for vectors of length $n$ and matrices of size $n \\times n$.\n",
    "\n",
    "This is a reasoning exercise - you do not need to write a program. Express your answers in text and using LaTeX in a Markdown cell.\n",
    "\n",
    "\n",
    "### Optional\n",
    "\n",
    "Test the complexity experimentally with your own functions for performing the operations, and\n",
    "with the NumPy 'vectorised' equivalents."
   ]
  },
  {
   "cell_type": "markdown",
   "metadata": {
    "deletable": false,
    "nbgrader": {
     "cell_type": "markdown",
     "checksum": "62a921e42154198d66dc82641af170e2",
     "grade": true,
     "grade_id": "cell-8460df1e09d7f0e7",
     "locked": false,
     "points": 0,
     "schema_version": 3,
     "solution": true
    }
   },
   "source": [
    "1.) Dotting two vectors of length n: there are n multiplications followed by n-1 additions to sum everything up. Suppose multiplication and addition are both time constant $O(1)$ complexity. Therefore linear $O(n)$ complexity overall.\n",
    "\n",
    "2.) Product of matrix nxn and vector length n: each row of the matrix is multiplied by the vector. This means n operations per row (and then addition of the terms, so n + (n-1) operations actually). But there are n rows, so n sets of these operations. So $n*n$ -> $O(n^2)$ complexity.\n",
    "\n",
    "3.) Product of two nxn matrices: each row in the first matrix multiplied by a column in the second matrix then summed. Like above, this would comprise 2n-1 operations. There are n columns but also n rows, so $n*n*(2n-1)$ operations = $O(n^3)$ complexity. \n",
    "\n",
    "(vectorised = applying operations to all the elements at once rather than looping via index)\n",
    "\n",
    "*did not do the optional exercise as I feel like I've already understood the key concepts of time complexity as per this notebook.\n"
   ]
  },
  {
   "cell_type": "markdown",
   "metadata": {},
   "source": [
    "## Exercise 11.2\n",
    "\n",
    "For the recursive factorial algorithm in Activity 04, determine the algorithmic complexity by inspecting your implementation of the algorithm. Test this against numerical experiments."
   ]
  },
  {
   "cell_type": "markdown",
   "metadata": {},
   "source": [
    "### Solution"
   ]
  },
  {
   "cell_type": "markdown",
   "metadata": {},
   "source": [
    "Recall the factorial algorithm from Activity 04.4:"
   ]
  },
  {
   "cell_type": "code",
   "execution_count": 5,
   "metadata": {},
   "outputs": [],
   "source": [
    "def factorial(n):\n",
    "    if n == 0:\n",
    "        return 1\n",
    "    else:\n",
    "        return factorial(n - 1)*n"
   ]
  },
  {
   "cell_type": "markdown",
   "metadata": {},
   "source": [
    "The function calls itself (recursively) $n$ times, hence it has complexity $O(n)$. We test this below and plot\n",
    "the times."
   ]
  },
  {
   "cell_type": "code",
   "execution_count": 41,
   "metadata": {
    "deletable": false,
    "nbgrader": {
     "cell_type": "code",
     "checksum": "ac9c61aee9ad5e1348d3b3892814724e",
     "grade": false,
     "grade_id": "cell-99456b1178be2bfe",
     "locked": false,
     "schema_version": 3,
     "solution": true
    }
   },
   "outputs": [
    {
     "data": {
      "image/png": "[encoded data removed]",
      "text/plain": [
       "<Figure size 432x288 with 1 Axes>"
      ]
     },
     "metadata": {
      "needs_background": "light"
     },
     "output_type": "display_data"
    }
   ],
   "source": [
    "n = np.arange(1,21,dtype='int64') #must avoid 'overflow encountered in longlong_scalars'\n",
    "#21 not included\n",
    "times = []\n",
    "for i in n:\n",
    "\n",
    "    t = %timeit -q -n10 -r1 -o factorial(i)\n",
    "    #good old magic command timeit\n",
    "    #n- trials\n",
    "    times.append(t.average)\n",
    "    \n",
    "#limit for int64 is 9x10^18\n",
    "#so the limit is 20 factorial.\n",
    "plt.plot(n,times)\n",
    "plt.xlabel('$n$')\n",
    "plt.ylabel('$t$ (s)')\n",
    "\n",
    "plt.show()\n",
    "\n",
    "#it appears that the factorial recursion algorithm is linear i.e. O(n) in complexity.\n",
    "#this is because increasing n means there's one extra multiplication operation to be done (which is assumed to be O(1))\n",
    "#or in other words, n is decremented until it reaches 0, meaning that the function is called recursively n times. So time is proportional to n.\n",
    "\n",
    "#although as n tends to infinity, each multiplication operation is no longer really time constant."
   ]
  },
  {
   "cell_type": "markdown",
   "metadata": {},
   "source": [
    "## Exercise 11.3\n",
    "\n",
    "Determine experimentally the complexity of computing the determinant of a matrix. You can generate an $n \\times n$ matrix using:"
   ]
  },
  {
   "cell_type": "code",
   "execution_count": 42,
   "metadata": {},
   "outputs": [],
   "source": [
    "n = 100\n",
    "A = np.random.rand(n, n)"
   ]
  },
  {
   "cell_type": "markdown",
   "metadata": {},
   "source": [
    "and the determinant can be computed by:"
   ]
  },
  {
   "cell_type": "code",
   "execution_count": 45,
   "metadata": {},
   "outputs": [],
   "source": [
    "det = np.linalg.slogdet(A)\n",
    "#this specific function returns the determinant sign and the natural log of the det."
   ]
  },
  {
   "cell_type": "markdown",
   "metadata": {},
   "source": [
    "Be sure that you test for sufficiently large $n$ to get into the 'large' $n$ regime."
   ]
  },
  {
   "cell_type": "markdown",
   "metadata": {},
   "source": [
    "### Solution"
   ]
  },
  {
   "cell_type": "markdown",
   "metadata": {},
   "source": [
    "Time computation of determinant:"
   ]
  },
  {
   "cell_type": "code",
   "execution_count": 49,
   "metadata": {
    "deletable": false,
    "nbgrader": {
     "cell_type": "code",
     "checksum": "0b0d621ce3dc60bcd922f628646b0329",
     "grade": false,
     "grade_id": "cell-64f74c9716976d38",
     "locked": false,
     "schema_version": 3,
     "solution": true
    }
   },
   "outputs": [],
   "source": [
    "# Create array of problem sizes we want to test (powers of 2)\n",
    "N = 2**np.arange(2, 12) #4 to 2048 (2^11)\n",
    "times = []\n",
    "for i in N:\n",
    "    trix = np.random.rand(i,i)\n",
    "    t = %timeit -q -n20 -r1 -o np.linalg.slogdet(trix)\n",
    "\n",
    "    times.append(t.average)\n"
   ]
  },
  {
   "cell_type": "markdown",
   "metadata": {},
   "source": [
    "Plot result:"
   ]
  },
  {
   "cell_type": "code",
   "execution_count": 52,
   "metadata": {
    "deletable": false,
    "nbgrader": {
     "cell_type": "code",
     "checksum": "3f6362a9a7dc358b5987cd42aff7d063",
     "grade": false,
     "grade_id": "cell-4e4b2cc52b08f077",
     "locked": false,
     "schema_version": 3,
     "solution": true
    }
   },
   "outputs": [
    {
     "data": {
      "image/png": "[encoded data removed]",
      "text/plain": [
       "<Figure size 432x288 with 1 Axes>"
      ]
     },
     "metadata": {
      "needs_background": "light"
     },
     "output_type": "display_data"
    }
   ],
   "source": [
    "plt.plot(N,times)\n",
    "plt.xlabel('$N$')\n",
    "plt.ylabel('$t (s)$')\n",
    "plt.show()\n",
    "#it looks...cubic in complexity? There's points of inflection around the N=250 and N=1000 marks.\n",
    "#turns out it is O(n^3) indeed!\n",
    "#because np.linalg.slogdet uses LU (lower-upper) factorisation/decomposition which is of cubic polynomial complexity.\n",
    "\n"
   ]
  },
  {
   "cell_type": "code",
   "execution_count": null,
   "metadata": {},
   "outputs": [],
   "source": [
    "#https://github.com/ipython/ipython/blob/61a4f1f7c11c30372fed53d6c3a90db2f692109f/IPython/core/magics/execution.py#L66\n",
    "#the source code for ipython timeit that shows .best, .average.....for some reason it's not properly documented."
   ]
  },
  {
   "cell_type": "code",
   "execution_count": null,
   "metadata": {},
   "outputs": [],
   "source": []
  }
 ],
 "metadata": {
  "kernelspec": {
   "display_name": "Python 3",
   "language": "python",
   "name": "python3"
  },
  "language_info": {
   "codemirror_mode": {
    "name": "ipython",
    "version": 3
   },
   "file_extension": ".py",
   "mimetype": "text/x-python",
   "name": "python",
   "nbconvert_exporter": "python",
   "pygments_lexer": "ipython3",
   "version": "3.8.3"
  }
 },
 "nbformat": 4,
 "nbformat_minor": 4
}
