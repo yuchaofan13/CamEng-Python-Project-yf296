{
 "cells": [
  {
   "cell_type": "markdown",
   "metadata": {
    "deletable": false,
    "editable": false,
    "nbgrader": {
     "cell_type": "markdown",
     "checksum": "8969a6543eebd1c7db89a71bb75e61ee",
     "grade": false,
     "grade_id": "cell-7b3313f25bceb7a2",
     "locked": true,
     "schema_version": 3,
     "solution": false
    }
   },
   "source": [
    "## Exercise 06.1 (selecting and passing data structures)\n",
    "\n",
    "The task in Exercise 04 for computing the area of a triangle involved a function with six arguments ($x$ and $y$ components of each vertex). With six arguments, the likelihood of a user passing arguments in the wrong order is high. \n",
    "\n",
    "Use an appropriate data structure, e.g. a `list`, `tuple`, `dict`, etc,  to develop a new version of the function with a simpler interface (the interface is the arguments that are passed to the function). Add appropriate checks inside your function to validate the input data."
   ]
  },
  {
   "cell_type": "code",
   "execution_count": 48,
   "metadata": {
    "deletable": false,
    "nbgrader": {
     "cell_type": "code",
     "checksum": "93c53f411edb621595bc865f6c79cbaf",
     "grade": false,
     "grade_id": "cell-50c4566d7bcbffaf",
     "locked": false,
     "schema_version": 3,
     "solution": true
    }
   },
   "outputs": [
    {
     "name": "stdout",
     "output_type": "stream",
     "text": [
      "The area is 1.0\n"
     ]
    }
   ],
   "source": [
    "#coordlist is a list of coordinate tuples\n",
    "\n",
    "def area(coordlist):\n",
    "    for i in coordlist:\n",
    "        if len(i) !=2:\n",
    "            raise SystemExit(\"invalid 2d coordinates\")\n",
    "            \n",
    "\n",
    "        elif (isinstance(i[0], int) == False and isinstance(i[0], float) == False) or (isinstance(i[1],int) == False and isinstance(i[1], float)==False):\n",
    "            raise SystemExit(\"coordinates not numbers\")\n",
    "            \n",
    "\n",
    "    return abs(0.5*(coordlist[0][0]*(coordlist[1][1]-coordlist[2][1])+coordlist[1][0]*(coordlist[2][1]-coordlist[0][1])+coordlist[2][0]*(coordlist[0][1]-coordlist[1][1])))\n",
    "            \n",
    "\n",
    "coordlist = [(1,3),(4,5),(6,7)] #user could input tuples or just a list of tuples for the coordinates\n",
    "#but here I've opted for a list of tuples as to minimise the arguments passed to the function for a simpler interface\n",
    "\n",
    "#The for loop goes through each set of coordinates, checking for errors.\n",
    "#the system exit error prevents the area calculation being repeated from within the for loop and raising more errors by breaking the loop.\n",
    "\n",
    "print(\"The area is\", (area(coordlist)))\n",
    "\n",
    "\n"
   ]
  },
  {
   "cell_type": "markdown",
   "metadata": {
    "deletable": false,
    "editable": false,
    "nbgrader": {
     "cell_type": "markdown",
     "checksum": "538793e1776653182d193a7700588461",
     "grade": false,
     "grade_id": "cell-5065052af9989fdf",
     "locked": true,
     "schema_version": 3,
     "solution": false
    }
   },
   "source": [
    "## Exercise 06.2 (selecting data structures)\n",
    "\n",
    "For a simple (non-intersecting) polygon with $n$ vertices, $(x_0, y_0)$, $(x_1, y_1)$, . . , $(x_{n-1}, y_{n-1})$, the area $A$ is given by\n",
    "$$\n",
    "A = \\left| \\frac{1}{2} \\sum_{i=0}^{n-1} \\left(x_{i} y _{i+1} - x_{i+1} y_{i} \\right) \\right|\n",
    "$$\n",
    "and where $(x_n, y_n) = (x_0, y_0)$. The vertices should be ordered as you move around the polygon.\n",
    "\n",
    "Write a function that computes the area of a simple polygon with an arbitrary number of vertices. Test your function for some simple shapes. Pay careful attention to the range of any loops."
   ]
  },
  {
   "cell_type": "code",
   "execution_count": 59,
   "metadata": {
    "deletable": false,
    "nbgrader": {
     "cell_type": "code",
     "checksum": "3c6fe94718310475d875ec60534199eb",
     "grade": false,
     "grade_id": "cell-4b5a619405787746",
     "locked": false,
     "schema_version": 3,
     "solution": true
    }
   },
   "outputs": [
    {
     "name": "stdout",
     "output_type": "stream",
     "text": [
      "18.0\n"
     ]
    }
   ],
   "source": [
    "\n",
    "def area(vertices): #vertices is a list of coordinate tuples\n",
    "    areasum = 0 # variables within functions only have local scope so must define within here\n",
    "    vertices.append(vertices[0])\n",
    "    for i in range(len(vertices)-1): #we need to repeat the final xn, yn but we don't then want to sum that one.\n",
    "        areasum+= vertices[i][0]*vertices[i+1][1]-vertices[i+1][0]*vertices[i][1]\n",
    "    return abs(0.5*areasum)\n",
    "\n",
    "vertices = [(0,0),(4,0),(4,4),(2,5),(0,4)]\n",
    "print(area(vertices))\n",
    "#bwahahaha it works\n",
    "        "
   ]
  },
  {
   "cell_type": "markdown",
   "metadata": {
    "deletable": false,
    "editable": false,
    "nbgrader": {
     "cell_type": "markdown",
     "checksum": "31a71dcd54f996f2f798df30114b9faf",
     "grade": false,
     "grade_id": "cell-ced99a38c7bbe7a0",
     "locked": true,
     "schema_version": 3,
     "solution": false
    }
   },
   "source": [
    "## Exercise 06.3 (indexing)\n",
    "\n",
    "Write a function that uses list indexing to add two vectors of arbitrary length, and returns the new vector. Include a check that the vector sizes match, and print a warning message if there is a size mismatch. The more error information you provide, the easier it would be for someone using your function to debug their code.\n",
    "\n",
    "Add some tests of your code.\n",
    "\n",
    "#### Hint: You can create a list of zeros of length `n` by\n",
    "\n",
    "    z = [0]*n\n",
    "    \n",
    "#### Optional (advanced) \n",
    "\n",
    "Try writing a one-line version of this operation using list comprehension and the built-in function [`zip`](https://docs.python.org/3/library/functions.html#zip)."
   ]
  },
  {
   "cell_type": "code",
   "execution_count": 65,
   "metadata": {
    "deletable": false,
    "nbgrader": {
     "cell_type": "code",
     "checksum": "66ea7d534bb1cbabf82dbcbb69e4dd02",
     "grade": false,
     "grade_id": "cell-47daca03f7a96b62",
     "locked": false,
     "schema_version": 3,
     "solution": true
    }
   },
   "outputs": [
    {
     "name": "stdout",
     "output_type": "stream",
     "text": [
      "[8, 11, 15.5]\n"
     ]
    }
   ],
   "source": [
    "def sum_vector(x, y): #vectors in list form\n",
    "    \"Return sum of two vectors\"\n",
    "    if len(x)!=len(y):\n",
    "        raise ValueError(\"vectors not the same length\")\n",
    "    else:\n",
    "        new_vector = [0]*len(x)\n",
    "        for i in range(len(x)):\n",
    "            new_vector[i]= x[i]+y[i]\n",
    "            \n",
    "        return new_vector\n",
    "\n",
    "print(sum_vector([3,4,6.5],[5,7,9]))\n",
    "            \n",
    "            "
   ]
  },
  {
   "cell_type": "code",
   "execution_count": 64,
   "metadata": {
    "deletable": false,
    "editable": false,
    "nbgrader": {
     "cell_type": "code",
     "checksum": "9b3d802cdb7440be47952667335f5cc7",
     "grade": true,
     "grade_id": "cell-95f5819810d2b2c7",
     "locked": true,
     "points": 0,
     "schema_version": 3,
     "solution": false
    }
   },
   "outputs": [],
   "source": [
    "a = [0, 4.3, -5, 7]\n",
    "b = [-2, 7, -15, 1]\n",
    "c = sum_vector(a, b)\n",
    "assert c == [-2, 11.3, -20, 8]"
   ]
  },
  {
   "cell_type": "markdown",
   "metadata": {},
   "source": [
    "### Extension: list comprehension"
   ]
  },
  {
   "cell_type": "code",
   "execution_count": 74,
   "metadata": {
    "deletable": false,
    "nbgrader": {
     "cell_type": "code",
     "checksum": "3ace0d343b7871c30f7776e20669bf3e",
     "grade": true,
     "grade_id": "cell-c182b3f0d8952692",
     "locked": false,
     "points": 0,
     "schema_version": 3,
     "solution": true
    }
   },
   "outputs": [
    {
     "name": "stdout",
     "output_type": "stream",
     "text": [
      "[-2, 11.3, -20, 8]\n",
      "[(0, -2), (4.3, 7), (-5, -15), (7, 1)]\n",
      "[(0, -2), (4.3, 7), (-5, -15), (7, 1)]\n"
     ]
    }
   ],
   "source": [
    "#using the vectors a and b as above\n",
    "sum_vector = [x + y for x, y in zip(a,b)]\n",
    " \n",
    "#The zip() function returns a zip object\n",
    "#this is an iterator (something that can be iterated through) of tuples\n",
    "#where the first item in each passed iterator is paired together, then the second items are paired together etc.\n",
    "\n",
    "print(sum_vector)\n",
    "\n",
    "lionel = [(x,y) for x,y in zip(a,b)] #each element in the zip object is of the format (x,y)\n",
    "print(lionel) #this is what the zip object looks like when converted into a list\n",
    "#or just use list function\n",
    "print(list(zip(a,b)))"
   ]
  },
  {
   "cell_type": "markdown",
   "metadata": {},
   "source": [
    "## Exercise 06.4 (dictionaries)\n",
    "\n",
    "Create a dictionary that maps college names (the key) to college abbreviations for at least 5 colleges\n",
    "(you can find abbreviations at https://en.wikipedia.org/wiki/Colleges_of_the_University_of_Cambridge#Colleges).\n",
    "From the dictionary, produce and print\n",
    "\n",
    "1. A dictionary from college abbreviation to name; and\n",
    "1. A list of college abbreviations sorted into alphabetical order.\n",
    "\n",
    "*Optional extension:* Create a dictionary that maps college names (the key) to dictionaries of:\n",
    "\n",
    "- College abbreviation\n",
    "- Year of foundation \n",
    "- Total number students\n",
    " \n",
    "for at least 5 colleges. Take the data from https://en.wikipedia.org/wiki/Colleges_of_the_University_of_Cambridge#Colleges. Using this dictionary, \n",
    "\n",
    "1. Find the college with the greatest number of students and print the abbreviation; and \n",
    "2. Find the oldest college, and print the number of students and the abbreviation for this college."
   ]
  },
  {
   "cell_type": "code",
   "execution_count": 99,
   "metadata": {
    "deletable": false,
    "nbgrader": {
     "cell_type": "code",
     "checksum": "892cc4fd98d0f8cc393eff925b5d6b13",
     "grade": false,
     "grade_id": "cell-bc271dc3885e19c5",
     "locked": false,
     "schema_version": 3,
     "solution": true
    }
   },
   "outputs": [
    {
     "name": "stdout",
     "output_type": "stream",
     "text": [
      "{'CAI': 'Gonville and Caius', 'G': 'Girton', 'CL': 'Clare', 'K': \"King's\", 'T': 'Trinity'}\n",
      "['CAI', 'CL', 'G', 'K', 'T']\n"
     ]
    }
   ],
   "source": [
    "colleges = {\"Gonville and Caius\": \"CAI\", \"Girton\": \"G\", \"Clare\":\"CL\", \"King's\":\"K\",\"Trinity\":\"T\"}\n",
    "\n",
    "colleges_inverse = {}\n",
    "for i,j in colleges.items(): #.items() returns the dictionary's key value pairs\n",
    "    \n",
    "    colleges_inverse[j] = i #now j is the key, and i is the value\n",
    "    #no indexing in dictionaries- instead, the key acts as an index.\n",
    "    #we can create new entries in dictionaries just by declaring like this.\n",
    "    \n",
    "print(colleges_inverse)\n",
    "sorted_colleges = ([i for i in colleges_inverse]) #only taking the abbreviations. don't use.sort()!\n",
    "\n",
    "sorted_colleges.sort()\n",
    "print(sorted_colleges)\n",
    "\n",
    "#could just use sorted(....) which returns a new list\n",
    "#.sort() modifies list in placee\n",
    "#i.e. .sort() replaces original list, whereas sorted() returns a sorted copy without changing the original list.\n",
    "\n",
    "#hence, using .sort() when defining a variable returns none because the actual list hasn't been stored yet in the first place.\n",
    "#e.g. sorted_colleges = ([i for i in colleges_inverse]).sort() DOESN'T WORK"
   ]
  },
  {
   "cell_type": "markdown",
   "metadata": {
    "deletable": false,
    "editable": false,
    "nbgrader": {
     "cell_type": "markdown",
     "checksum": "ee373920fe2377cf230967db220ba75a",
     "grade": false,
     "grade_id": "cell-45d2551a524193b0",
     "locked": true,
     "schema_version": 3,
     "solution": false
    }
   },
   "source": [
    "#### Optional extension"
   ]
  },
  {
   "cell_type": "code",
   "execution_count": 33,
   "metadata": {
    "deletable": false,
    "nbgrader": {
     "cell_type": "code",
     "checksum": "683b2dc107d00c494b6c163c5ab6cfa8",
     "grade": false,
     "grade_id": "cell-7040c4053c72ce09",
     "locked": false,
     "schema_version": 3,
     "solution": true
    }
   },
   "outputs": [
    {
     "name": "stdout",
     "output_type": "stream",
     "text": [
      "College with most students: T 1054 students\n",
      "Oldest College: CL 808 students, 1326 founding year\n",
      "\n",
      "[('Trinity', {'abbrv': 'T', 'date': 1546, 'students': 1054}), ('Gonville and Caius', {'abbrv': 'CAI', 'date': 1348, 'students': 849}), ('Clare', {'abbrv': 'CL', 'date': 1326, 'students': 808}), ('Girton', {'abbrv': 'G', 'date': 1869, 'students': 808}), (\"King's\", {'abbrv': 'K', 'date': 1441, 'students': 726})]\n",
      "\n",
      "[('Trinity', {'abbrv': 'T', 'date': 1546, 'students': 1054}), ('Gonville and Caius', {'abbrv': 'CAI', 'date': 1348, 'students': 849}), ('Clare', {'abbrv': 'CL', 'date': 1326, 'students': 808}), ('Girton', {'abbrv': 'G', 'date': 1869, 'students': 808}), (\"King's\", {'abbrv': 'K', 'date': 1441, 'students': 726})]\n",
      "['Trinity', 'Gonville and Caius', 'Clare', 'Girton', \"King's\"]\n",
      "['Clare', 'Gonville and Caius', \"King's\", 'Trinity', 'Girton']\n",
      "Most students Trinity T 1054\n",
      "Oldest college Clare CL 808 1326\n"
     ]
    }
   ],
   "source": [
    "college_dict = {\"Gonville and Caius\":{\"abbrv\": \"CAI\", \"date\":1348, \"students\":849}, \"Clare\":{\"abbrv\":\"CL\", \"date\":1326, \"students\":808}, \"Girton\":{\"abbrv\":\"G\", \"date\":1869, \"students\":808}, \"King's\":{\"abbrv\":\"K\",\"date\":1441, \"students\":726},\"Trinity\":{\"abbrv\":\"T\",\"date\":1546, \"students\":1054}}\n",
    "#a dictionary that maps college names (the key) to dictionaries of abbreviation, foundation year, number of students\n",
    "#so effectively a dictionary of dictionaries for each college containing the attribute key and the value\n",
    "\n",
    "max_students = 0\n",
    "oldest_date = 100000 #oldest college has the lowest number\n",
    "for i,j in college_dict.items(): #j is the nested dictionary\n",
    "    if  j[\"students\"]>max_students: #can't use indices with dictionaries, must use key to get value!\n",
    "        max_students = j[\"students\"]\n",
    "        max_st_abbrv = j[\"abbrv\"]\n",
    "        \n",
    "    if j[\"date\"] <oldest_date:\n",
    "        oldest_date = j[\"date\"]\n",
    "        oldest_students = j[\"students\"]\n",
    "        oldest_abbrv = j[\"abbrv\"]\n",
    "    \n",
    "\n",
    "print(\"College with most students:\",max_st_abbrv, max_students, \"students\")\n",
    "print(\"Oldest College:\",oldest_abbrv, oldest_students, \"students,\", oldest_date, \"founding year\")\n",
    "print(\"\")\n",
    "\n",
    "#Alternate method: you can pass a key to the sorted() function! This allows you to sort by a certain key within the nested dictionary.\n",
    "#The key function returns a tuple containing what you wish to sort on. Or use a lambda function.\n",
    "\n",
    "#specify a function to be called on each list element prior to making comparisons. Like a proxy.\n",
    "def keyfunc(tup):\n",
    "    key, college_dict = tup \n",
    "    return -college_dict[\"students\"] #minus sign to reverse order (number of students)\n",
    "\n",
    "blab = sorted(college_dict.items(), key = keyfunc)\n",
    "#.items() returns tuples that keyfunc then acts on.\n",
    "#two variables used to store the tuple\n",
    "#key would be Gonville & Caius, college_dict would be the corresponding nested dictionary.\n",
    "print(blab)\n",
    "print(\"\")\n",
    "#here, a lambda function is used instead\n",
    "\n",
    "itemstest = sorted(college_dict.items(), key=lambda x: (x[1]['students']),reverse = True) \n",
    "#x is each element of the list/dict\n",
    "#.items() will return key, value pairs\n",
    "#so x[1] gives the nested dictionary for each college YEET\n",
    "print(itemstest)\n",
    "\n",
    "maxstudents = sorted(college_dict, key=lambda x: (college_dict[x]['students']),reverse = True) #x is what the lambda function takes as input\n",
    "#reverse to display desired element as the first value of the sorted list.\n",
    "\n",
    "#key function applied to every list/dict element\n",
    "#^here, the list elements are Gonville and Caius, King's, Trinity, Clare, Girton etc....\n",
    "#therefore, college_dict[x] returns the corresponding dictionary!\n",
    "\n",
    "oldestcollege = sorted(college_dict, key=lambda x: (college_dict[x]['date']))\n",
    "print(maxstudents)\n",
    "print(oldestcollege)\n",
    "\n",
    "print(\"Most students\",maxstudents[0],college_dict[maxstudents[0]][\"abbrv\"],college_dict[maxstudents[0]][\"students\"])\n",
    "print(\"Oldest college\",oldestcollege[0], college_dict[oldestcollege[0]][\"abbrv\"], college_dict[oldestcollege[0]][\"students\"],college_dict[oldestcollege[0]][\"date\"])"
   ]
  },
  {
   "cell_type": "code",
   "execution_count": null,
   "metadata": {},
   "outputs": [],
   "source": []
  }
 ],
 "metadata": {
  "kernelspec": {
   "display_name": "Python 3",
   "language": "python",
   "name": "python3"
  },
  "language_info": {
   "codemirror_mode": {
    "name": "ipython",
    "version": 3
   },
   "file_extension": ".py",
   "mimetype": "text/x-python",
   "name": "python",
   "nbconvert_exporter": "python",
   "pygments_lexer": "ipython3",
   "version": "3.8.3"
  }
 },
 "nbformat": 4,
 "nbformat_minor": 4
}
